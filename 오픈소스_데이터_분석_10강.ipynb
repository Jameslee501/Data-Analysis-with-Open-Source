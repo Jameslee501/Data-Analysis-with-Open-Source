{
  "cells": [
    {
      "cell_type": "markdown",
      "metadata": {
        "id": "view-in-github",
        "colab_type": "text"
      },
      "source": [
        "<a href=\"https://colab.research.google.com/github/Jameslee501/Data-Analysis-with-Open-Source/blob/main/%EC%98%A4%ED%94%88%EC%86%8C%EC%8A%A4_%EB%8D%B0%EC%9D%B4%ED%84%B0_%EB%B6%84%EC%84%9D_10%EA%B0%95.ipynb\" target=\"_parent\"><img src=\"https://colab.research.google.com/assets/colab-badge.svg\" alt=\"Open In Colab\"/></a>"
      ]
    },
    {
      "cell_type": "markdown",
      "metadata": {
        "id": "Zz5JUBE2rKWC"
      },
      "source": [
        "# 오픈소스 기반 데이터 분석 10강"
      ]
    },
    {
      "cell_type": "code",
      "source": [
        "import pandas as pd\n",
        "import json\n",
        "\n",
        "## json으로 부터 DataFrame 생성\n",
        "df = pd.read_json(\"targetdata.json\", lines=True)\n",
        "print(df)"
      ],
      "metadata": {
        "id": "pyyKZtRni6O0",
        "outputId": "f852024a-78e0-4b76-fe93-17bbea418d96",
        "colab": {
          "base_uri": "https://localhost:8080/"
        }
      },
      "execution_count": 6,
      "outputs": [
        {
          "output_type": "stream",
          "name": "stdout",
          "text": [
            "        년   월   현년 전기사용량    현년 가스사용량      현년 수도사용량   현년 지역난방 사용량\n",
            "0    2015   1  193784708  59133720.0  1.281976e+07  2.274084e+07\n",
            "1    2015   2  189974230  56487358.0  1.265689e+07  1.879332e+07\n",
            "2    2015   3  175215719  49984873.0  1.265547e+07  1.382635e+07\n",
            "3    2015   4  183891769  37306841.0  1.295477e+07  5.836003e+06\n",
            "4    2015   5  177289769  22060892.0  1.308673e+07  1.320896e+06\n",
            "..    ...  ..        ...         ...           ...           ...\n",
            "115  2024   8  463971328   7072251.0  1.587354e+07  1.300823e+05\n",
            "116  2024   9  409872908   5729131.0  1.514332e+07  3.420507e+06\n",
            "117  2024  10  282268119   8233421.0  1.529767e+07  2.695491e+06\n",
            "118  2024  11  257927956  17418221.0  1.467867e+07  8.836296e+06\n",
            "119  2024  12  134828126  42103424.0  7.326854e+06  1.513199e+06\n",
            "\n",
            "[120 rows x 6 columns]\n"
          ]
        }
      ]
    },
    {
      "cell_type": "code",
      "source": [
        "import pandas as pd\n",
        "import json\n",
        "\n",
        "df = pd.read_json(\"targetdata.json\", lines=True, encoding = \"utf-8\")\n",
        "\n",
        "# DataFrame 모양(행의 개수, 열의 개수) 출력\n",
        "print(df.shape)\n",
        "# DataFrame 타입 출력\n",
        "print(type(df))\n",
        "# DataFrame 행 인덱스 범위 출력\n",
        "print(df.index)\n",
        "# DataFrame 열 이름 리스트 출력\n",
        "print(df.columns)"
      ],
      "metadata": {
        "id": "0SFW1OD5jU6K",
        "outputId": "68fe3e86-8a99-451d-e29d-2ca0b59eec9f",
        "colab": {
          "base_uri": "https://localhost:8080/"
        }
      },
      "execution_count": 8,
      "outputs": [
        {
          "output_type": "stream",
          "name": "stdout",
          "text": [
            "(120, 6)\n",
            "<class 'pandas.core.frame.DataFrame'>\n",
            "RangeIndex(start=0, stop=120, step=1)\n",
            "Index(['년', '월', '현년 전기사용량', '현년 가스사용량', '현년 수도사용량', '현년 지역난방 사용량'], dtype='object')\n"
          ]
        }
      ]
    },
    {
      "cell_type": "code",
      "source": [
        "import pandas as pd\n",
        "import json\n",
        "\n",
        "# 1) JSON 파일로부터 DataFrame 생성\n",
        "df = pd.read_json(\"targetdata.json\", lines=True, encoding=\"utf-8\")\n",
        "\n",
        "# 2) 날짜 컬럼 만들기\n",
        "df[\"날짜\"] = pd.to_datetime(df[\"년\"].astype(str) + \"-\" + df[\"월\"].astype(str) + \"-01\")\n",
        "\n",
        "# 3) 연도(연도) 컬럼 추가\n",
        "df[\"연도\"] = df[\"날짜\"].dt.year\n",
        "\n",
        "# 4) 계절( 구분 함수 정의\n",
        "def get_season(month):\n",
        "    if 3 <= month <= 5:\n",
        "        return \"봄\"\n",
        "    elif 6 <= month <= 8:\n",
        "        return \"여름\"\n",
        "    elif 9 <= month <= 11:\n",
        "        return \"가을\"\n",
        "    else:\n",
        "        return \"겨울\"\n",
        "\n",
        "# 5) 계절 컬럼 추가\n",
        "df[\"계절\"] = df[\"날짜\"].dt.month.map(get_season)\n",
        "\n",
        "# 6) 결과 확인\n",
        "print(df[[\"년\", \"월\", \"연도\", \"계절\"]])\n",
        "\n",
        "# 7) JSON 파일로 다시 저장\n",
        "df.to_json(\"targetdata_processed.json\", orient=\"records\", lines=True, force_ascii=False)"
      ],
      "metadata": {
        "id": "JNRpaRHgjuWL",
        "outputId": "816adee5-0c6f-4ae4-a892-d1ff60536dab",
        "colab": {
          "base_uri": "https://localhost:8080/"
        }
      },
      "execution_count": 17,
      "outputs": [
        {
          "output_type": "stream",
          "name": "stdout",
          "text": [
            "        년   월    연도  계절\n",
            "0    2015   1  2015  겨울\n",
            "1    2015   2  2015  겨울\n",
            "2    2015   3  2015   봄\n",
            "3    2015   4  2015   봄\n",
            "4    2015   5  2015   봄\n",
            "..    ...  ..   ...  ..\n",
            "115  2024   8  2024  여름\n",
            "116  2024   9  2024  가을\n",
            "117  2024  10  2024  가을\n",
            "118  2024  11  2024  가을\n",
            "119  2024  12  2024  겨울\n",
            "\n",
            "[120 rows x 4 columns]\n"
          ]
        }
      ]
    },
    {
      "cell_type": "code",
      "source": [
        "import pandas as pd\n",
        "import matplotlib.pyplot as plt\n",
        "\n",
        "# 전처리된 데이터 불러와서 데이터 프레임으로 변환\n",
        "df = pd.read_json(\"targetdata_processed.json\", lines=True, encoding=\"utf-8\")\n",
        "\n",
        "# 월별 총 사용량(전기+가스+수도+지역난방) 계산\n",
        "df[\"총사용량\"] = df[\"현년 전기사용량\"] + df[\"현년 가스사용량\"] + df[\"현년 수도사용량\"] + df[\"현년 지역난방 사용량\"]\n",
        "\n",
        "# 연도별 총합을 담을 딕셔너리 생성\n",
        "yearly_usage = {}\n",
        "\n",
        "# df에 있는 모든 행 확인\n",
        "for i in range(len(df)):\n",
        "    year = df.loc[i, \"연도\"]\n",
        "    total = df.loc[i, \"총사용량\"]\n",
        "\n",
        "    # 만약 해당 연도가 이미 딕셔너리에 있을 경우 누적\n",
        "    if year in yearly_usage:\n",
        "        yearly_usage[year] += total\n",
        "    # 해당 연도가 딕셔너리에 없을 경우(즉, 해당 연도의 첫 번째 달) total 새로 생성\n",
        "    else:\n",
        "        yearly_usage[year] = total\n",
        "\n",
        "# 연도순 정렬\n",
        "years = sorted(yearly_usage.keys())\n",
        "totals = [yearly_usage[y] for y in years]\n",
        "\n",
        "## 선 그래프 그리기\n",
        "plt.plot(years, totals, marker='o')\n",
        "\n",
        "# 제목 및 축 설정\n",
        "plt.title(\"연도별 에너지 사용 총액 변화 - 8540\")\n",
        "plt.xlabel(\"연도\")\n",
        "plt.ylabel(\"총 사용량 (전기+가스+수도+지역난방)\")\n",
        "plt.show()"
      ],
      "metadata": {
        "id": "FDqxLGC4llf_",
        "outputId": "184f6894-ac53-4108-c6ad-a4b4e5c5bbff",
        "colab": {
          "base_uri": "https://localhost:8080/",
          "height": 471
        }
      },
      "execution_count": 18,
      "outputs": [
        {
          "output_type": "display_data",
          "data": {
            "text/plain": [
              "<Figure size 640x480 with 1 Axes>"
            ],
            "image/png": "[encoded data removed]"
          },
          "metadata": {}
        }
      ]
    },
    {
      "cell_type": "code",
      "source": [
        "import pandas as pd\n",
        "import matplotlib.pyplot as plt\n",
        "\n",
        "# 1. 전처리된 데이터 불러오기\n",
        "df = pd.read_json(\"targetdata_processed.json\", lines=True, encoding=\"utf-8\")\n",
        "\n",
        "# 2. 계절별 평균 가스 사용량 계산 및 나열 순서 지정\n",
        "season_order = [\"봄\", \"여름\", \"가을\", \"겨울\"]\n",
        "season_avg = df.groupby(\"계절\")[\"현년 가스사용량\"].mean().reindex(season_order).reset_index()\n",
        "\n",
        "# 3. 막대그래프 그리기\n",
        "plt.figure(figsize=(8, 5))\n",
        "bars = plt.bar(season_avg[\"계절\"], season_avg[\"현년 가스사용량\"], color=\"blue\")\n",
        "\n",
        "# 4. 막대 위에 평균값 표시하기(막대 높이=값 불러와서 평균 계산 후 표시)\n",
        "for bar in bars:\n",
        "    height = bar.get_height()\n",
        "    plt.text(bar.get_x() + bar.get_width()/2, height, f\"{height:.1f}\",\n",
        "             ha='center', va='bottom', fontsize=10)\n",
        "\n",
        "# 5. 제목과 축 이름 설정\n",
        "plt.title(\"계절별 평균 가스 사용량\", fontsize=14)\n",
        "plt.xlabel(\"계절\", fontsize=12)\n",
        "plt.ylabel(\"평균 가스 사용량\", fontsize=12)\n",
        "plt.grid(axis='y', linestyle='--', alpha=0.7)\n",
        "\n",
        "# 6. 그래프 보여주기\n",
        "plt.tight_layout()\n",
        "plt.show()\n"
      ],
      "metadata": {
        "id": "KxX2-0KHmQoa",
        "outputId": "c608c546-e69e-4c6c-fdc6-268982b3bda7",
        "colab": {
          "base_uri": "https://localhost:8080/",
          "height": 507
        }
      },
      "execution_count": 27,
      "outputs": [
        {
          "output_type": "display_data",
          "data": {
            "text/plain": [
              "<Figure size 800x500 with 1 Axes>"
            ],
            "image/png": "[encoded data removed]"
          },
          "metadata": {}
        }
      ]
    },
    {
      "cell_type": "code",
      "execution_count": 22,
      "metadata": {
        "id": "b-4mRqmRDgDZ",
        "outputId": "5f60e9d3-e3e2-4ace-f7b9-e36dc749d206",
        "colab": {
          "base_uri": "https://localhost:8080/"
        }
      },
      "outputs": [
        {
          "output_type": "stream",
          "name": "stdout",
          "text": [
            "Reading package lists... Done\n",
            "Building dependency tree... Done\n",
            "Reading state information... Done\n",
            "fonts-nanum is already the newest version (20200506-1).\n",
            "0 upgraded, 0 newly installed, 0 to remove and 38 not upgraded.\n"
          ]
        }
      ],
      "source": [
        "# 한글 처리를 위한 matplotlib 설정 (1)\n",
        "\n",
        "!sudo apt-get install -y fonts-nanum\n",
        "!sudo fc-cache –fv\n",
        "!rm ~/.cache/matplotlib -rf"
      ]
    },
    {
      "cell_type": "markdown",
      "metadata": {
        "id": "bAV3ncgwDgDc"
      },
      "source": [
        "- 런타임 -> 세션 다시 시작"
      ]
    },
    {
      "cell_type": "code",
      "execution_count": 1,
      "metadata": {
        "id": "pBEdaPnvDgDd"
      },
      "outputs": [],
      "source": [
        "# 한글 처리를 위한 matplotlib 설정 (2)\n",
        "\n",
        "import matplotlib.pyplot as plt\n",
        "plt.rc('font', family='NanumBarunGothic')"
      ]
    },
    {
      "cell_type": "markdown",
      "metadata": {
        "id": "o_Tkb1rSDgDe"
      },
      "source": [
        "## 10-1 Matplotlib 기본 구조"
      ]
    },
    {
      "cell_type": "code",
      "execution_count": null,
      "metadata": {
        "id": "XJHKshLBb2Bc"
      },
      "outputs": [],
      "source": [
        "import matplotlib.pyplot as plt\n",
        "import numpy as np\n",
        "\n",
        "## 데이터 생성\n",
        "x = np.arange(0, 6, 1)\n",
        "y1 = [10, 7, 8, 15, 20, 12]\n",
        "y2 = [1, 2, 1, 1.5, 2, 1.2]\n",
        "\n",
        "## 2개의 서브플롯 생성 (2행 1열)\n",
        "fig, axes = plt.subplots(nrows=2, ncols=1, figsize=(6, 6))\n",
        "\n",
        "## 첫 번째 서브플롯: 라인 플롯\n",
        "axes[0].plot(x, y1, linestyle='-', marker='o', color='b', label=\"Line\")\n",
        "axes[0].set_title(\"Plot\")\n",
        "axes[0].set_ylabel(\"y value\")\n",
        "axes[0].grid(True)\n",
        "axes[0].legend()\n",
        "\n",
        "## 두 번째 서브플롯: 산점도\n",
        "axes[1].scatter(x, y2, color='purple', label=\"Scatter\", marker='o')\n",
        "axes[1].set_xlabel(\"x value\")\n",
        "axes[1].set_ylabel(\"y value\")\n",
        "axes[1].grid(True)\n",
        "axes[1].legend()\n",
        "\n",
        "## x축 및 y축 눈금 설정\n",
        "axes[1].set_xticks(np.arange(0, 6, 1))\n",
        "axes[1].set_xticklabels([\"0\", \"1\", \"2\", \"3\", \"4\", \"5\"])\n",
        "axes[1].set_yticks([0, 0.5, 1, 1.5, 2])\n",
        "\n",
        "## 전체 그래프 제목 설정 및 표시\n",
        "fig.suptitle(\"Matplotlib 그래프 구조\")\n",
        "plt.show()"
      ]
    },
    {
      "cell_type": "markdown",
      "metadata": {
        "id": "dM2fP71ZDgDh"
      },
      "source": [
        "## 10-2 표"
      ]
    },
    {
      "cell_type": "code",
      "execution_count": null,
      "metadata": {
        "id": "Rf0Fy6ZTb9PL"
      },
      "outputs": [],
      "source": [
        "import pandas as pd\n",
        "\n",
        "## 데이터 딕셔너리 정의\n",
        "data = {\n",
        "    '이름': ['김지은', '이민호', '박서연', '최준영', '정다혜'],\n",
        "    '나이': [27, 32, 29, 35, 24],\n",
        "    '성적': [92, 85, 95, 78, 88],\n",
        "    '부서': ['개발팀', '인사팀', '개발팀', '재무팀', '마케팅팀'] }\n",
        "\n",
        "## 딕셔너리를 이용하여 DataFrame 생성\n",
        "\n",
        "## DataFrame 출력"
      ]
    },
    {
      "cell_type": "markdown",
      "metadata": {
        "id": "Y1-xNbRlDgDj"
      },
      "source": [
        "## 10-3 선 그래프 그리기"
      ]
    },
    {
      "cell_type": "code",
      "execution_count": null,
      "metadata": {
        "id": "-LgWZfkNcBYQ"
      },
      "outputs": [],
      "source": [
        "import matplotlib.pyplot as plt\n",
        "\n",
        "## 데이터 정의\n",
        "x = [1, 2, 3, 4, 5]\n",
        "y = [10, 15, 7, 12, 18]\n",
        "\n",
        "## 선 그래프 그리기\n",
        "\n",
        "# 제목 설정\n",
        "\n",
        "plt.show()"
      ]
    },
    {
      "cell_type": "markdown",
      "metadata": {
        "id": "WrQnkOr4DgDl"
      },
      "source": [
        "## 10-4 막대 그래프 그리기"
      ]
    },
    {
      "cell_type": "code",
      "execution_count": null,
      "metadata": {
        "id": "UeuyPnxBcE6Q"
      },
      "outputs": [],
      "source": [
        "import matplotlib.pyplot as plt\n",
        "\n",
        "## 데이터 정의\n",
        "categories = ['A', 'B', 'C', 'D']\n",
        "values = [10, 20, 15, 25]\n",
        "\n",
        "## 막대 그래프 그리기\n",
        "\n",
        "plt.show()"
      ]
    },
    {
      "cell_type": "code",
      "execution_count": null,
      "metadata": {
        "id": "c7Po4j8rcJXy"
      },
      "outputs": [],
      "source": [
        "import matplotlib.pyplot as plt\n",
        "\n",
        "## 데이터 정의\n",
        "categories = ['A', 'B', 'C', 'D']\n",
        "values = [10, 20, 15, 25]\n",
        "\n",
        "## 가로 막대 그래프 그리기\n",
        "\n",
        "plt.show()"
      ]
    },
    {
      "cell_type": "markdown",
      "metadata": {
        "id": "jPxMf6ouDgDo"
      },
      "source": [
        "## 10-5 히스토그램 그리기"
      ]
    },
    {
      "cell_type": "code",
      "execution_count": null,
      "metadata": {
        "id": "A1n2xpM7cLL6"
      },
      "outputs": [],
      "source": [
        "import matplotlib.pyplot as plt\n",
        "import numpy as np\n",
        "\n",
        "## 데이터 생성 (정규 분포를 따르는 1000개의 난수)\n",
        "data = np.random.randn(1000)\n",
        "\n",
        "## 히스토그램 그리기\n",
        "\n",
        "plt.show()"
      ]
    },
    {
      "cell_type": "markdown",
      "metadata": {
        "id": "jU81w-W1DgDp"
      },
      "source": [
        "## 10-6 산점도 그리기"
      ]
    },
    {
      "cell_type": "code",
      "execution_count": null,
      "metadata": {
        "id": "HmDupkpPcQDS"
      },
      "outputs": [],
      "source": [
        "import matplotlib.pyplot as plt\n",
        "\n",
        "## 데이터 정의\n",
        "x = [1, 2, 3, 4, 5, 6, 7, 8, 9, 10]\n",
        "y = [2, 4, 5, 7, 10, 11, 14, 15, 18, 20]\n",
        "\n",
        "## 산점도 그리기\n",
        "\n",
        "plt.show()"
      ]
    },
    {
      "cell_type": "markdown",
      "metadata": {
        "id": "RsA8IgbrDgDr"
      },
      "source": [
        "## 10-7 박스 플롯 그리기"
      ]
    },
    {
      "cell_type": "code",
      "execution_count": null,
      "metadata": {
        "id": "rZfuMKd0cRx7"
      },
      "outputs": [],
      "source": [
        "import matplotlib.pyplot as plt\n",
        "\n",
        "## 데이터 정의\n",
        "data = [7, 8, 9, 10, 15, 16, 17, 18, 19, 25, 30, 35, 40]\n",
        "\n",
        "## 박스 플롯 그리기\n",
        "\n",
        "plt.show()"
      ]
    },
    {
      "cell_type": "markdown",
      "metadata": {
        "id": "BiSFKwKODgDr"
      },
      "source": [
        "## 10-8 파이 차트 그리기"
      ]
    },
    {
      "cell_type": "code",
      "execution_count": null,
      "metadata": {
        "id": "0w7mqHitcUNo"
      },
      "outputs": [],
      "source": [
        "import matplotlib.pyplot as plt\n",
        "\n",
        "## 데이터 정의\n",
        "labels =['A','B','C','D']\n",
        "sizes =[20,30,25,25]\n",
        "\n",
        "## 파이 차트 그리기\n",
        "\n",
        "plt.title(\"파이 차트\")\n",
        "plt.show()"
      ]
    },
    {
      "cell_type": "markdown",
      "metadata": {
        "id": "K3-ecb9FDgDs"
      },
      "source": [
        "## 10-9 히트맵 그리기"
      ]
    },
    {
      "cell_type": "code",
      "execution_count": null,
      "metadata": {
        "id": "XtlFtRb2cWKd"
      },
      "outputs": [],
      "source": [
        "import matplotlib.pyplot as plt\n",
        "import seaborn as sns\n",
        "import numpy as np\n",
        "\n",
        "## 데이터 생성 (5x5 크기의 무작위 행렬)\n",
        "data = np.random.rand(5, 5)\n",
        "\n",
        "## seaborn을 이용하여 히트맵 그리기\n",
        "\n",
        "plt.title(\"Heatmap\")\n",
        "plt.show()"
      ]
    },
    {
      "cell_type": "markdown",
      "metadata": {
        "id": "f9_XruBuDgDt"
      },
      "source": [
        "## 10-10 레이더 차트 그리기"
      ]
    },
    {
      "cell_type": "code",
      "execution_count": null,
      "metadata": {
        "id": "Ga_YMcRYcYTE"
      },
      "outputs": [],
      "source": [
        "import numpy as np\n",
        "import matplotlib.pyplot as plt\n",
        "\n",
        "## 데이터 정의\n",
        "labels = ['데이터 전처리', '데이터 수집', '머신러닝과 딥러닝', '시각화', '데이터베이스', '수학 및 통계']\n",
        "values = [10, 7, 7, 9, 7, 6]\n",
        "n = len(labels)\n",
        "\n",
        "## 각 축의 각도 계산 및 데이터 반복 추가 (닫힌 그래프를 위해)\n",
        "angles = np.linspace(0, 2 * np.pi, n, endpoint=False).tolist()\n",
        "values += values[:1]\n",
        "angles += angles[:1]\n",
        "\n",
        "## 레이더 차트 생성 (극 좌표계의 라인 그래프)\n",
        "\n",
        "\n",
        "\n",
        "## 축 라벨 및 눈금 설정\n",
        "ax.set_xticks(angles[:-1])\n",
        "ax.set_xticklabels(labels, fontsize=12)\n",
        "ax.set_yticks([2, 4, 6, 8, 10])\n",
        "ax.set_yticklabels(['2', '4', '6', '8', '10'], fontsize=10)\n",
        "ax.set_ylim(0, 10)\n",
        "ax.grid(True, linestyle='-', alpha=0.7)\n",
        "\n",
        "## 각 축에 가이드라인 추가\n",
        "for angle, label in zip(angles[:-1], labels):\n",
        "    ax.plot([angle, angle], [0, 10], '--', color='gray', alpha=0.3, linewidth=0.5)\n",
        "\n",
        "plt.title('데이터 분석 역량 프로파일', fontsize=15, pad=20)\n",
        "plt.tight_layout()\n",
        "plt.show()"
      ]
    },
    {
      "cell_type": "markdown",
      "metadata": {
        "id": "aWaRUzmnDgDt"
      },
      "source": [
        "## 10-11 3D 차트 그리기"
      ]
    },
    {
      "cell_type": "code",
      "execution_count": null,
      "metadata": {
        "id": "_TCk0rlscc6_"
      },
      "outputs": [],
      "source": [
        "import matplotlib.pyplot as plt\n",
        "import numpy as np\n",
        "from mpl_toolkits.mplot3d import Axes3D\n",
        "\n",
        "## 데이터 생성\n",
        "np.random.seed(0)\n",
        "x = np.random.rand(20)\n",
        "y = np.random.rand(20)\n",
        "z = np.random.rand(20)\n",
        "\n",
        "## 3D 그래프 설정\n",
        "fig = plt.figure()\n",
        "ax = fig.add_subplot(111, projection='3d')\n",
        "\n",
        "## 3D 산점도 그리기\n",
        "ax.scatter(x, y, z)\n",
        "ax.set_xlabel(\"X 축\")\n",
        "ax.set_ylabel(\"Y 축\")\n",
        "ax.set_zlabel(\"Z 축\")\n",
        "ax.set_title(\"3D 산점도\")\n",
        "\n",
        "plt.show()"
      ]
    },
    {
      "cell_type": "markdown",
      "metadata": {
        "id": "7c41L-DkDgDu"
      },
      "source": [
        "## 10-12 3D 막대 그래프 그리기"
      ]
    },
    {
      "cell_type": "code",
      "execution_count": null,
      "metadata": {
        "id": "KhCNal4Bcep_"
      },
      "outputs": [],
      "source": [
        "import matplotlib.pyplot as plt\n",
        "import numpy as np\n",
        "from mpl_toolkits.mplot3d import Axes3D\n",
        "\n",
        "## 데이터 정의\n",
        "x = np.array([1, 2, 3, 4, 5])\n",
        "y = np.array([1, 2, 3, 4, 5])\n",
        "z = np.zeros(5) ## 막대 바닥의 Z 좌표\n",
        "heights = np.array([5, 7, 3, 8, 6]) ## 각 막대의 높이\n",
        "\n",
        "## 3D 그래프 설정\n",
        "fig = plt.figure()\n",
        "ax = fig.add_subplot(111, projection='3d')\n",
        "\n",
        "## 3D 막대 그래프 그리기\n",
        "## x, y, z: 각 막대의 시작 위치 (바닥)\n",
        "## 0.5, 0.5: 각 막대의 너비와 깊이\n",
        "## heights: 각 막대의 높이\n",
        "ax.bar3d(x, y, z, 0.5, 0.5, heights)\n",
        "\n",
        "## 축 레이블 및 제목 설정\n",
        "ax.set_xlabel(\"X 축\")\n",
        "ax.set_ylabel(\"Y 축\")\n",
        "ax.set_zlabel(\"높이\")\n",
        "ax.set_title(\"3D 막대 그래프\")\n",
        "\n",
        "plt.show()"
      ]
    },
    {
      "cell_type": "markdown",
      "metadata": {
        "id": "S2IS71X3DgDu"
      },
      "source": [
        "## 10-13 Folium을 이용한 지도 시각화"
      ]
    },
    {
      "cell_type": "code",
      "execution_count": null,
      "metadata": {
        "id": "W1tSCCJx1Q_Q"
      },
      "outputs": [],
      "source": [
        "import folium\n",
        "\n",
        "## 지도 생성 (서울 시청 (37.5665, 126.9780) 중심, 확대 레벨 12)\n",
        "\n",
        "## 마커 추가\n",
        "# 한국방송통신대학교 대학본부 (37.5792, 127.0029)\n",
        "\n",
        "## 지도를 HTML 파일로 저장\n",
        "map.save(\"map_visualization.html\")"
      ]
    },
    {
      "cell_type": "code",
      "source": [
        "map"
      ],
      "metadata": {
        "id": "aZ-b4Yk3FZH4"
      },
      "execution_count": null,
      "outputs": []
    },
    {
      "cell_type": "markdown",
      "metadata": {
        "id": "E5Eb7ZS8DgDv"
      },
      "source": [
        "## 10-14 NetworkX를 이용한 그래프 시각화"
      ]
    },
    {
      "cell_type": "code",
      "execution_count": null,
      "metadata": {
        "id": "74Lnp54f1Q3U"
      },
      "outputs": [],
      "source": [
        "import networkx as nx\n",
        "import matplotlib.pyplot as plt\n",
        "\n",
        "## 그래프 객체 생성\n",
        "G = nx.Graph()\n",
        "\n",
        "## 노드(정점) 추가\n",
        "G.add_nodes_from([\"A\", \"B\", \"C\", \"D\", \"E\"])\n",
        "\n",
        "## 엣지(간선) 추가\n",
        "G.add_edges_from([(\"A\", \"B\"), (\"A\", \"C\"), (\"B\", \"D\"), (\"C\", \"D\"), (\"C\", \"E\")])\n",
        "\n",
        "## 그래프 시각화\n",
        "\n",
        "plt.show()"
      ]
    },
    {
      "cell_type": "markdown",
      "metadata": {
        "id": "jgqY7pGjDgDw"
      },
      "source": [
        "## 10-15 바이올린 플롯 그리기"
      ]
    },
    {
      "cell_type": "code",
      "execution_count": null,
      "metadata": {
        "id": "jyo6-aAA1iyD"
      },
      "outputs": [],
      "source": [
        "import matplotlib.pyplot as plt\n",
        "import seaborn as sns\n",
        "import numpy as np\n",
        "import pandas as pd\n",
        "\n",
        "np.random.seed(42) ## 난수 시드 설정\n",
        "\n",
        "## 도시별 가상 기온 데이터 생성\n",
        "seoul_temp = np.random.normal(22, 3, 100)\n",
        "busan_temp = np.random.normal(24, 2, 100)\n",
        "jeju_temp = np.random.normal(26, 2.5, 100)\n",
        "\n",
        "## DataFrame 생성\n",
        "data = pd.DataFrame({\n",
        "    '도시': ['서울'] * 100 + ['부산'] * 100 + ['제주'] * 100,\n",
        "    '기온(°C)': np.concatenate([seoul_temp, busan_temp, jeju_temp])\n",
        "})\n",
        "\n",
        "## seaborn을 이용하여 바이올린 플롯 그리기\n",
        "\n",
        "\n",
        "## 그래프 제목 및 축 레이블 설정\n",
        "plt.title('2025년 여름 주요 도시 일일 기온 분포', fontsize=14)\n",
        "plt.xlabel('도시', fontsize=12)\n",
        "plt.ylabel('기온(°C)', fontsize=12)\n",
        "plt.ylim(15, 35)\n",
        "\n",
        "plt.tight_layout()\n",
        "plt.show()"
      ]
    },
    {
      "cell_type": "markdown",
      "metadata": {
        "id": "wCW3ecUlDgDw"
      },
      "source": [
        "## 10-16 등고선 그래프 그리기"
      ]
    },
    {
      "cell_type": "code",
      "execution_count": null,
      "metadata": {
        "id": "KZtli2Pi1lC7"
      },
      "outputs": [],
      "source": [
        "import numpy as np\n",
        "\n",
        "## 데이터 생성\n",
        "x = np.linspace(-5, 5, 100)\n",
        "y = np.linspace(-5, 5, 100)\n",
        "X, Y = np.meshgrid(x, y)\n",
        "\n",
        "Z = np.sin(np.sqrt(X**2 + Y**2))\n",
        "\n",
        "# 등고선 그래프 그리기\n",
        "\n",
        "\n",
        "# 색상 막대 추가 및 레이블 설정\n",
        "cbar = plt.colorbar(contour)\n",
        "cbar.set_label('높이 (Z값)')\n",
        "\n",
        "## 제목 및 축 레이블 설정\n",
        "plt.title(\"등고선 그래프 예제\")\n",
        "plt.xlabel(\"X 축\")\n",
        "plt.ylabel(\"Y 축\")\n",
        "\n",
        "plt.show()"
      ]
    },
    {
      "cell_type": "markdown",
      "metadata": {
        "id": "lXrwDuQDzVrL"
      },
      "source": [
        "# 개념 실습 정리 1\n",
        "\n",
        "- 온라인 쇼핑몰의 판매 데이터를 분석하고 시각적으로 표현\n",
        "\n",
        "- [영국 기반의 온라인 소매업체 데이터를 활용](https://archive.ics.uci.edu/dataset/352/online+retail)함\n",
        "  - 이 데이터셋은 2010년 1월 12일부터 2011년 12월 9일 까지의 약 1년간의 거래 기록을 포함"
      ]
    },
    {
      "cell_type": "markdown",
      "source": [
        "1. 데이터 준비 (다운로드 및 로드)"
      ],
      "metadata": {
        "id": "rq0zwn3RG-F5"
      }
    },
    {
      "cell_type": "code",
      "execution_count": null,
      "metadata": {
        "id": "ssKLal-GdsDc"
      },
      "outputs": [],
      "source": [
        "import pandas as pd\n",
        "\n",
        "## 데이터셋 URL 정의\n",
        "url = \"https://archive.ics.uci.edu/ml/machine-learning-databases/00352/Online%20Retail.xlsx\"\n",
        "\n",
        "## 데이터셋 로드\n",
        "retail_data = pd.read_excel(url)\n",
        "\n",
        "## 데이터셋 크기 출력\n",
        "print(\"데이터셋 크기:\", retail_data.shape)\n",
        "\n",
        "## 첫 5개 행 출력\n",
        "print(\"\\n첫 5개 행:\")\n",
        "print(retail_data.head())\n",
        "\n",
        "## 데이터 정보 출력\n",
        "print(\"\\n데이터 정보:\")\n",
        "print(retail_data.info())\n",
        "\n",
        "## 기술 통계 요약 출력\n",
        "print(retail_data.describe().to_markdown())"
      ]
    },
    {
      "cell_type": "markdown",
      "metadata": {
        "id": "3-fq6BzSDgDy"
      },
      "source": [
        "2. 데이터 전처리"
      ]
    },
    {
      "cell_type": "code",
      "execution_count": null,
      "metadata": {
        "id": "jtId5Roedu0l"
      },
      "outputs": [],
      "source": [
        "## CustomerID가 없는 행 제거\n",
        "retail_data_clean = retail_data.dropna(subset=['CustomerID'])\n",
        "## 중복된 행 제거\n",
        "retail_data_clean = retail_data_clean.drop_duplicates()\n",
        "## 수량(Quantity)과 단가(UnitPrice)가 0보다 큰 유효한 데이터만 필터링\n",
        "retail_data_clean = retail_data_clean[(retail_data_clean['Quantity'] > 0) &\n",
        "                                      (retail_data_clean['UnitPrice'] > 0)]\n",
        "\n",
        "## 총 가격(TotalPrice) 컬럼 생성\n",
        "retail_data_clean['TotalPrice'] = retail_data_clean['Quantity'] * retail_data_clean['UnitPrice']\n",
        "\n",
        "## InvoiceDate에서 시간 관련 특성 추출\n",
        "retail_data_clean['Year'] = retail_data_clean['InvoiceDate'].dt.year\n",
        "retail_data_clean['Month'] = retail_data_clean['InvoiceDate'].dt.month\n",
        "retail_data_clean['Day'] = retail_data_clean['InvoiceDate'].dt.day\n",
        "retail_data_clean['DayOfWeek'] = retail_data_clean['InvoiceDate'].dt.dayofweek\n",
        "retail_data_clean['Hour'] = retail_data_clean['InvoiceDate'].dt.hour\n",
        "\n",
        "## 전처리 후 데이터 크기 및 첫 5개 행 출력\n",
        "print(\"\\n전처리 후 데이터 크기:\", retail_data_clean.shape)\n",
        "print(\"\\n전처리 후 첫 5개 행:\")\n",
        "print(retail_data_clean.head())"
      ]
    },
    {
      "cell_type": "markdown",
      "metadata": {
        "id": "_PvSmqOsDgDz"
      },
      "source": [
        "3. 월별 총 매출 추이 시각화"
      ]
    },
    {
      "cell_type": "code",
      "execution_count": null,
      "metadata": {
        "id": "diB2UIRcdxI8"
      },
      "outputs": [],
      "source": [
        "import matplotlib.pyplot as plt\n",
        "\n",
        "## 월별 총 매출 계산\n",
        "# retail_data_clean을 Year와 Month 단위로 그룹화 한 후 TotalPrice의 합을 구함\n",
        "\n",
        "# YearMonth 칼럼에 label을 설정\n",
        "monthly_sales['YearMonth'] = monthly_sales['Year'].astype(str) + '-' + monthly_sales['Month'].astype(str)\n",
        "\n",
        "## 월별 총 매출 추이 시각화\n",
        "\n",
        "\n",
        "## 그래프 제목 및 축 레이블 설정\n",
        "plt.title('월별 총 매출 추이', fontsize=15)\n",
        "plt.xlabel('연월', fontsize=12)\n",
        "plt.ylabel('총 매출(£)', fontsize=12)\n",
        "plt.grid(True, linestyle='--', alpha=0.7)\n",
        "plt.show()"
      ]
    },
    {
      "cell_type": "markdown",
      "metadata": {
        "id": "5RzXSbAgDgDz"
      },
      "source": [
        "4. 국가별 총 매출 시각화 (상위 10개국)"
      ]
    },
    {
      "cell_type": "code",
      "execution_count": null,
      "metadata": {
        "id": "SMaQMWZUdy_i"
      },
      "outputs": [],
      "source": [
        "## 국가별 총 매출 계산 및 상위 10개국 추출\n",
        "# retail_data_clean을 Country 단위로 그룹화 한 후 TotalPrice의 합을 구함\n",
        "\n",
        "# 역순으로 정렬한 다음 상위 10개 선택\n",
        "\n",
        "\n",
        "## 국가별 총 매출 시각화 (막대 그래프)\n",
        "\n",
        "\n",
        "## 그래프 제목 및 축 레이블 설정\n",
        "plt.title('국가별 총 매출 (상위 10개국)', fontsize=15)\n",
        "plt.xlabel('국가', fontsize=12)\n",
        "plt.ylabel('총 매출(£)', fontsize=12)\n",
        "plt.grid(True, axis='y') ## Y축 그리드만 표시\n",
        "plt.show()"
      ]
    },
    {
      "cell_type": "markdown",
      "metadata": {
        "id": "CJROWc6qDgD0"
      },
      "source": [
        "5. 요일 및 시간대별 주문 횟수 히트맵"
      ]
    },
    {
      "cell_type": "code",
      "execution_count": null,
      "metadata": {
        "id": "Qr4z1qmNd0ci"
      },
      "outputs": [],
      "source": [
        "import seaborn as sns\n",
        "\n",
        "## 요일 및 시간대별 주문 횟수 계산\n",
        "# 일, 시간으로 그룹화 한 후 횟수(size)를 측정\n",
        "\n",
        "\n",
        "## 요일 인덱스 한글명으로 변경\n",
        "day_names = ['월요일', '화요일', '수요일', '목요일', '금요일', '토요일', '일요일']\n",
        "hourly_orders.index = [day_names[i] for i in hourly_orders.index]\n",
        "\n",
        "## 히트맵 시각화\n",
        "\n",
        "\n",
        "## 그래프 제목 및 축 레이블 설정\n",
        "plt.title('요일 및 시간대별 주문 횟수', fontsize=15)\n",
        "plt.xlabel('시간', fontsize=12)\n",
        "plt.ylabel('요일', fontsize=12)\n",
        "plt.show()"
      ]
    }
  ],
  "metadata": {
    "colab": {
      "provenance": [],
      "include_colab_link": true
    },
    "kernelspec": {
      "display_name": "Python 3",
      "name": "python3"
    },
    "language_info": {
      "codemirror_mode": {
        "name": "ipython",
        "version": 3
      },
      "file_extension": ".py",
      "mimetype": "text/x-python",
      "name": "python",
      "nbconvert_exporter": "python",
      "pygments_lexer": "ipython3",
      "version": "3.8.10"
    }
  },
  "nbformat": 4,
  "nbformat_minor": 0
}